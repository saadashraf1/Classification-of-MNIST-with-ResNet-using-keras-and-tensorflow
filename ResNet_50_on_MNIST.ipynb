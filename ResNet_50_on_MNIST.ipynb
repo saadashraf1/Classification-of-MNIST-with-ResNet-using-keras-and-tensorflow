{
  "nbformat": 4,
  "nbformat_minor": 0,
  "metadata": {
    "colab": {
      "name": "Untitled9.ipynb",
      "provenance": []
    },
    "kernelspec": {
      "name": "python3",
      "display_name": "Python 3"
    },
    "language_info": {
      "name": "python"
    },
    "accelerator": "GPU"
  },
  "cells": [
    {
      "cell_type": "code",
      "execution_count": 2,
      "metadata": {
        "id": "GmIQt8VNsyDh"
      },
      "outputs": [],
      "source": [
        "import os\n",
        "import numpy as np\n",
        "from keras import layers\n",
        "from keras.datasets import mnist\n",
        "from keras.utils.np_utils import to_categorical\n",
        "import matplotlib.pyplot as plt\n",
        "from keras.layers import Input, Add, Dense, Activation, ZeroPadding2D, BatchNormalization, Flatten, Conv2D\n",
        "from keras.layers import AveragePooling2D, MaxPooling2D, GlobalMaxPooling2D\n",
        "from keras.callbacks import ModelCheckpoint, Callback, EarlyStopping\n",
        "from keras.models import Model\n",
        "from keras.initializers import glorot_uniform\n",
        "\n",
        "os.environ['CUDA_VISIBLE_DEVICES'] = '0'\n"
      ]
    },
    {
      "cell_type": "code",
      "source": [
        "(x_train, y_train), (x_test, y_test) = mnist.load_data()\n",
        "y_train_onehot = to_categorical(y_train, num_classes=None, dtype='float32')\n",
        "print(\"Train Set Size = {} images\".format(y_train.shape[0]))\n",
        "print(\"Test Set Size = {} images\".format(y_test.shape[0]))"
      ],
      "metadata": {
        "colab": {
          "base_uri": "https://localhost:8080/"
        },
        "id": "xwdRIyjRs0gp",
        "outputId": "24559e74-81ad-4c43-9377-e034f7598eb7"
      },
      "execution_count": 3,
      "outputs": [
        {
          "output_type": "stream",
          "name": "stdout",
          "text": [
            "Downloading data from https://storage.googleapis.com/tensorflow/tf-keras-datasets/mnist.npz\n",
            "11493376/11490434 [==============================] - 0s 0us/step\n",
            "11501568/11490434 [==============================] - 0s 0us/step\n",
            "Train Set Size = 60000 images\n",
            "Test Set Size = 10000 images\n"
          ]
        }
      ]
    },
    {
      "cell_type": "code",
      "source": [
        "fig1 = plt.figure(figsize = (15,15))\n",
        "for i in range(5):\n",
        "    ax1 = fig1.add_subplot(1,5,i+1) \n",
        "    ax1.imshow(x_train[i], interpolation='none', cmap=plt.cm.gray)\n",
        "plt.show()\n",
        "print(\"Labels : {}\".format(y_train[0:5]))"
      ],
      "metadata": {
        "colab": {
          "base_uri": "https://localhost:8080/",
          "height": 211
        },
        "id": "VfwvYkvdtHzQ",
        "outputId": "cd76d681-f452-42ce-9d4b-0fe323d53f92"
      },
      "execution_count": 4,
      "outputs": [
        {
          "output_type": "display_data",
          "data": {
            "text/plain": [
              "<Figure size 1080x1080 with 5 Axes>"
            ],
            "image/png": "[encoded data removed]"
          },
          "metadata": {
            "needs_background": "light"
          }
        },
        {
          "output_type": "stream",
          "name": "stdout",
          "text": [
            "Labels : [5 0 4 1 9]\n"
          ]
        }
      ]
    },
    {
      "cell_type": "code",
      "source": [
        "optimizer = 'adam'\n",
        "objective = 'categorical_crossentropy'\n",
        "\n",
        "def identity_block(X, f, filters, stage, block):\n",
        "    \n",
        "    conv_name_base = 'res' + str(stage) + block + '_branch'\n",
        "    bn_name_base = 'bn' + str(stage) + block + '_branch'\n",
        "\n",
        "    F1, F2, F3 = filters\n",
        "\n",
        "    X_shortcut = X\n",
        "\n",
        "    X = Conv2D(filters=F1, kernel_size=(1,1), strides=(1,1), padding='valid', name=conv_name_base+'2a', kernel_initializer=glorot_uniform(seed=0))(X)\n",
        "    X = BatchNormalization(axis=3, name=bn_name_base+'2a')(X)\n",
        "    X = Activation('relu')(X)\n",
        "\n",
        "    X = Conv2D(filters=F2, kernel_size=(f,f), strides=(1,1), padding='same', name=conv_name_base+'2b', kernel_initializer=glorot_uniform(seed=0))(X)\n",
        "    X = BatchNormalization(axis=3, name=bn_name_base+'2b')(X)\n",
        "    X = Activation('relu')(X)\n",
        "\n",
        "    X = Conv2D(filters=F3, kernel_size=(1,1), strides=(1,1), padding='valid', name=conv_name_base+'2c', kernel_initializer=glorot_uniform(seed=0))(X)\n",
        "    X = BatchNormalization(axis=3, name=bn_name_base+'2c')(X)\n",
        "\n",
        "    X = layers.Add()([X, X_shortcut])\n",
        "    X = Activation('relu')(X)\n",
        "\n",
        "    return X\n",
        "\n",
        "def convolutional_block(X, f, filters, stage, block, s=2):\n",
        "    \n",
        "    conv_name_base = 'res' + str(stage) + block + '_branch'\n",
        "    bn_name_base = 'bn' + str(stage) + block + '_branch'\n",
        "\n",
        "    F1, F2, F3 = filters\n",
        "\n",
        "    X_shortcut = X\n",
        "\n",
        "    X = Conv2D(filters=F1, kernel_size=(1,1), strides=(s,s), name=conv_name_base+'2a', kernel_initializer=glorot_uniform(seed=0))(X)\n",
        "    X = BatchNormalization(axis=3, name=bn_name_base+'2a')(X)\n",
        "    X = Activation('relu')(X)\n",
        "\n",
        "    X = Conv2D(filters=F2, kernel_size=(f,f), strides=(1,1), padding='same', name=conv_name_base+'2b', kernel_initializer=glorot_uniform(seed=0))(X)\n",
        "    X = BatchNormalization(axis=3, name=bn_name_base+'2b')(X)\n",
        "    X = Activation('relu')(X)\n",
        "\n",
        "    X = Conv2D(filters=F3, kernel_size=(1,1), strides=(1,1), name=conv_name_base+'2c', kernel_initializer=glorot_uniform(seed=0))(X)\n",
        "    X = BatchNormalization(axis=3, name=bn_name_base+'2c')(X)\n",
        "\n",
        "    X_shortcut = Conv2D(F3, kernel_size=(1,1), strides=(s,s), name=conv_name_base+'1', kernel_initializer=glorot_uniform(seed=0))(X_shortcut)\n",
        "    X_shortcut = BatchNormalization(axis=3, name=bn_name_base+'1')(X_shortcut)\n",
        "\n",
        "    X = layers.Add()([X, X_shortcut])\n",
        "    X = Activation('relu')(X)\n",
        "\n",
        "    return X\n",
        "\n",
        "\n",
        "def resNet():\n",
        "    \n",
        "    # Define the input as a tensor with shape input_shape\n",
        "    X_input = Input((28,28,1))\n",
        "    \n",
        "    # Zero-Padding\n",
        "    X = ZeroPadding2D((3, 3))(X_input)\n",
        "    \n",
        "    # Stage 1\n",
        "    X = Conv2D(64, (7, 7), strides = (2, 2), name = 'conv1',)(X)\n",
        "    X = BatchNormalization(axis = 3, name = 'bn_conv1')(X)\n",
        "    X = Activation('relu')(X)\n",
        "    X = MaxPooling2D((3, 3), strides=(2, 2))(X)\n",
        "    \n",
        "    # Stage 2\n",
        "    X = convolutional_block(X, f = 3, filters = [64, 64, 256], stage = 2, block='a', s = 1)\n",
        "    X = identity_block(X, 3, [64, 64, 256], stage=2, block='b')\n",
        "    X = identity_block(X, 3, [64, 64, 256], stage=2, block='c')\n",
        "    \n",
        "    # Stage 3\n",
        "    X = convolutional_block(X, f = 3, filters = [128, 128, 512], stage = 3, block='a', s = 2)\n",
        "    X = identity_block(X, 3, [128, 128, 512], stage=3, block='b')\n",
        "    X = identity_block(X, 3, [128, 128, 512], stage=3, block='c')\n",
        "    X = identity_block(X, 3, [128, 128, 512], stage=3, block='d')\n",
        "    \n",
        "    # Stage 4\n",
        "    X = convolutional_block(X, f = 3, filters = [256, 256, 1024], stage = 4, block='a', s = 2)\n",
        "    X = identity_block(X, 3, [256, 256, 1024], stage=4, block='b')\n",
        "    X = identity_block(X, 3, [256, 256, 1024], stage=4, block='c')\n",
        "    X = identity_block(X, 3, [256, 256, 1024], stage=4, block='d')\n",
        "    X = identity_block(X, 3, [256, 256, 1024], stage=4, block='e')\n",
        "    X = identity_block(X, 3, [256, 256, 1024], stage=4, block='f')\n",
        "    \n",
        "    # Stage 5\n",
        "    X = convolutional_block(X, f = 3, filters = [512, 512, 2048], stage = 5, block='a', s = 2)\n",
        "    X = identity_block(X, 3, [512, 512, 2048], stage=5, block='b')\n",
        "    X = identity_block(X, 3, [512, 512, 2048], stage=5, block='c')\n",
        "    \n",
        "    # AVGPOOL\n",
        "    # X = AveragePooling2D((2,2), name='avg_pool')(X)\n",
        "    \n",
        "    # output layer\n",
        "    X = Flatten()(X)\n",
        "    X = Dense(y_train_onehot.shape[1], activation='softmax', name='fc' + str(y_train_onehot.shape[1]))(X)\n",
        "    \n",
        "    # Create model\n",
        "    model = Model(inputs = X_input, outputs = X, name='ResNet50')\n",
        "    \n",
        "    #Compile the model\n",
        "    model.compile(optimizer=optimizer, loss=objective, metrics=['accuracy'])\n",
        "    \n",
        "    return model\n",
        "\n"
      ],
      "metadata": {
        "id": "w0fZzRcJtQHq"
      },
      "execution_count": 5,
      "outputs": []
    },
    {
      "cell_type": "code",
      "source": [
        "model = resNet()"
      ],
      "metadata": {
        "id": "oo5RmkkKtqGG"
      },
      "execution_count": 6,
      "outputs": []
    },
    {
      "cell_type": "code",
      "source": [
        "nb_epoch = 25\n",
        "batch_size = 128\n",
        "\n",
        "## Callback for loss logging per epoch\n",
        "class LossHistory(Callback):\n",
        "    def on_train_begin(self, logs={}):\n",
        "        self.losses = []\n",
        "        self.val_losses = []\n",
        "        self.acc = []\n",
        "        self.val_acc = []\n",
        "        \n",
        "    def on_epoch_end(self, batch, logs={}):\n",
        "        self.losses.append(logs.get('loss'))\n",
        "        self.val_losses.append(logs.get('val_loss'))\n",
        "        self.acc.append(logs.get('accuracy'))\n",
        "        self.val_acc.append(logs.get('val_accuracy'))\n",
        "\n",
        "early_stopping = EarlyStopping(monitor='val_loss', patience=100, verbose=1, mode='auto')\n",
        "\n",
        "def run_resNet():\n",
        "    \n",
        "    history = LossHistory()\n",
        "    # x_train & x_test reshaped because of single channel !\n",
        "    model.fit(x_train.reshape((-1,28,28,1)), y_train_onehot, batch_size=batch_size, epochs=nb_epoch,\n",
        "              validation_split=0.25, verbose=1, shuffle=True, callbacks=[history, early_stopping])\n",
        "    \n",
        "\n",
        "    predictions = model.predict(x_test.reshape((-1,28,28,1)), verbose=0)\n",
        "    return predictions, history\n",
        "\n",
        "def test_accuracy():\n",
        "    err = []\n",
        "    t = 0\n",
        "    for i in range(predictions.shape[0]):\n",
        "        if (np.argmax(predictions[i]) == y_test[i]):\n",
        "            t = t+1\n",
        "        else:\n",
        "            err.append(i)\n",
        "    return t, float(t)*100/predictions.shape[0], err\n"
      ],
      "metadata": {
        "id": "LF6qPHtVtsOZ"
      },
      "execution_count": 7,
      "outputs": []
    },
    {
      "cell_type": "code",
      "source": [
        "predictions, history = run_resNet()"
      ],
      "metadata": {
        "colab": {
          "base_uri": "https://localhost:8080/"
        },
        "id": "ojC6OdVqt0H9",
        "outputId": "ba83180d-758e-42ae-95f5-02cf7b9adfce"
      },
      "execution_count": 8,
      "outputs": [
        {
          "output_type": "stream",
          "name": "stdout",
          "text": [
            "Epoch 1/25\n",
            "  6/352 [..............................] - ETA: 42s - loss: 4.0397 - accuracy: 0.1771WARNING:tensorflow:Callback method `on_train_batch_end` is slow compared to the batch time (batch time: 0.0547s vs `on_train_batch_end` time: 0.0549s). Check your callbacks.\n",
            "352/352 [==============================] - 68s 144ms/step - loss: 0.3767 - accuracy: 0.8976 - val_loss: 0.2287 - val_accuracy: 0.9327\n",
            "Epoch 2/25\n",
            "352/352 [==============================] - 47s 133ms/step - loss: 0.0797 - accuracy: 0.9754 - val_loss: 0.1292 - val_accuracy: 0.9635\n",
            "Epoch 3/25\n",
            "352/352 [==============================] - 47s 133ms/step - loss: 0.0507 - accuracy: 0.9842 - val_loss: 0.1157 - val_accuracy: 0.9689\n",
            "Epoch 4/25\n",
            "352/352 [==============================] - 47s 133ms/step - loss: 0.0500 - accuracy: 0.9843 - val_loss: 0.0753 - val_accuracy: 0.9789\n",
            "Epoch 5/25\n",
            "352/352 [==============================] - 47s 133ms/step - loss: 0.1087 - accuracy: 0.9684 - val_loss: 0.0794 - val_accuracy: 0.9751\n",
            "Epoch 6/25\n",
            "352/352 [==============================] - 48s 137ms/step - loss: 0.0411 - accuracy: 0.9876 - val_loss: 0.0634 - val_accuracy: 0.9826\n",
            "Epoch 7/25\n",
            "352/352 [==============================] - 47s 133ms/step - loss: 0.0287 - accuracy: 0.9911 - val_loss: 0.0808 - val_accuracy: 0.9781\n",
            "Epoch 8/25\n",
            "352/352 [==============================] - 47s 133ms/step - loss: 0.0248 - accuracy: 0.9921 - val_loss: 0.0595 - val_accuracy: 0.9845\n",
            "Epoch 9/25\n",
            "352/352 [==============================] - 47s 133ms/step - loss: 0.0242 - accuracy: 0.9920 - val_loss: 0.0647 - val_accuracy: 0.9843\n",
            "Epoch 10/25\n",
            "352/352 [==============================] - 47s 133ms/step - loss: 0.0212 - accuracy: 0.9936 - val_loss: 0.0802 - val_accuracy: 0.9807\n",
            "Epoch 11/25\n",
            "352/352 [==============================] - 47s 133ms/step - loss: 0.0223 - accuracy: 0.9932 - val_loss: 0.0855 - val_accuracy: 0.9773\n",
            "Epoch 12/25\n",
            "352/352 [==============================] - 47s 133ms/step - loss: 0.0196 - accuracy: 0.9938 - val_loss: 0.1045 - val_accuracy: 0.9767\n",
            "Epoch 13/25\n",
            "352/352 [==============================] - 47s 133ms/step - loss: 0.0200 - accuracy: 0.9936 - val_loss: 0.0678 - val_accuracy: 0.9824\n",
            "Epoch 14/25\n",
            "352/352 [==============================] - 48s 137ms/step - loss: 0.0207 - accuracy: 0.9938 - val_loss: 0.0540 - val_accuracy: 0.9858\n",
            "Epoch 15/25\n",
            "352/352 [==============================] - 47s 133ms/step - loss: 0.0225 - accuracy: 0.9930 - val_loss: 0.0723 - val_accuracy: 0.9819\n",
            "Epoch 16/25\n",
            "352/352 [==============================] - 47s 133ms/step - loss: 0.0223 - accuracy: 0.9932 - val_loss: 0.0849 - val_accuracy: 0.9775\n",
            "Epoch 17/25\n",
            "352/352 [==============================] - 48s 137ms/step - loss: 0.0215 - accuracy: 0.9933 - val_loss: 0.0921 - val_accuracy: 0.9783\n",
            "Epoch 18/25\n",
            "352/352 [==============================] - 47s 134ms/step - loss: 0.0181 - accuracy: 0.9944 - val_loss: 0.0580 - val_accuracy: 0.9853\n",
            "Epoch 19/25\n",
            "352/352 [==============================] - 47s 134ms/step - loss: 0.0214 - accuracy: 0.9934 - val_loss: 0.0582 - val_accuracy: 0.9851\n",
            "Epoch 20/25\n",
            "352/352 [==============================] - 47s 134ms/step - loss: 0.0207 - accuracy: 0.9934 - val_loss: 0.0836 - val_accuracy: 0.9799\n",
            "Epoch 21/25\n",
            "352/352 [==============================] - 47s 133ms/step - loss: 0.0212 - accuracy: 0.9934 - val_loss: 0.0505 - val_accuracy: 0.9869\n",
            "Epoch 22/25\n",
            "352/352 [==============================] - 47s 133ms/step - loss: 0.0159 - accuracy: 0.9958 - val_loss: 0.0646 - val_accuracy: 0.9851\n",
            "Epoch 23/25\n",
            "352/352 [==============================] - 48s 137ms/step - loss: 0.0211 - accuracy: 0.9934 - val_loss: 0.0582 - val_accuracy: 0.9863\n",
            "Epoch 24/25\n",
            "352/352 [==============================] - 48s 136ms/step - loss: 0.0575 - accuracy: 0.9839 - val_loss: 0.0656 - val_accuracy: 0.9823\n",
            "Epoch 25/25\n",
            "352/352 [==============================] - 48s 137ms/step - loss: 0.0945 - accuracy: 0.9787 - val_loss: 0.0484 - val_accuracy: 0.9850\n"
          ]
        }
      ]
    },
    {
      "cell_type": "code",
      "source": [
        "fig10 = plt.figure(figsize = (12,10))\n",
        "ax1 = fig10.add_subplot(2,2,1)\n",
        "\n",
        "ax1.plot(np.arange(1,nb_epoch+1), history.val_acc, color='red', label='test')\n",
        "ax1.plot(np.arange(1,nb_epoch+1), history.acc, color='blue', label='train')\n",
        "\n",
        "ax1.set(xlabel='Epochs', ylabel='Accuracy',\n",
        "       title='Epochs vs. Model Accuracy')\n",
        "plt.legend()\n",
        "plt.show()\n"
      ],
      "metadata": {
        "colab": {
          "base_uri": "https://localhost:8080/",
          "height": 325
        },
        "id": "VsO1MLSZzLca",
        "outputId": "6c16bff1-aed0-4f45-b012-1f65e8e0714d"
      },
      "execution_count": 14,
      "outputs": [
        {
          "output_type": "display_data",
          "data": {
            "text/plain": [
              "<Figure size 864x720 with 1 Axes>"
            ],
            "image/png": "[encoded data removed]"
          },
          "metadata": {
            "needs_background": "light"
          }
        }
      ]
    },
    {
      "cell_type": "code",
      "source": [
        "fig1 = plt.figure(figsize = (12,10))\n",
        "ax1 = fig1.add_subplot(2,2,1)\n",
        "#ax2 = fig1.add_subplot(2,2,2)\n",
        "\n",
        "ax1.plot(np.arange(1,nb_epoch+1), history.val_losses, color='r', label='test')\n",
        "ax1.plot(np.arange(1,nb_epoch+1), history.losses, color='b', label='train')\n",
        "\n",
        "ax1.set(xlabel='Epochs', ylabel='Loss',\n",
        "       title='Epochs vs. Loss')\n",
        "plt.legend()\n",
        "plt.show()"
      ],
      "metadata": {
        "colab": {
          "base_uri": "https://localhost:8080/",
          "height": 325
        },
        "id": "np59k68J3Qom",
        "outputId": "1b0bf9b9-98b3-4e50-8401-221106f43ea3"
      },
      "execution_count": 12,
      "outputs": [
        {
          "output_type": "display_data",
          "data": {
            "text/plain": [
              "<Figure size 864x720 with 1 Axes>"
            ],
            "image/png": "[encoded data removed]"
          },
          "metadata": {
            "needs_background": "light"
          }
        }
      ]
    }
  ]
}